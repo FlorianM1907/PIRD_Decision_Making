{
 "cells": [
  {
   "cell_type": "markdown",
   "id": "f10a3737",
   "metadata": {},
   "source": [
    "# Tutoriel \"Calculate_SRF.py\"\n",
    "\n",
    "Auteurs: [Asmae KHARRAB](mailto:asmae.kharrab@insa-lyon.fr), [Florian MERINDOL](mailto:florian.merindol@insa-lyon.fr)\n",
    "\n",
    "[INSA Lyon](https://www.insa-lyon.fr), France, 08/10/2021\n",
    "\n",
    "## Introduction\n",
    "\n",
    "Dans le but de pondérer les critères par la méthode SRF (Simos-Roy-Figueira), le code Python [**Calculate_SRF.py**](Calculate_SRF.py) présenté ci-dessous permet d'automatiser les calculs à partir d'un fichier Excel, où l'utilisateur a préalablement classer ses critères. "
   ]
  },
  {
   "cell_type": "markdown",
   "id": "861a103c",
   "metadata": {},
   "source": [
    "## Présentation de la méthode SRF\n",
    "\n",
    "La méthode Simos-Roy-Figueira (SRF) est une amélioration de la méthode de Simos, dites la \"méthode des cartes\".\n",
    "\n",
    "La méthode des cartes permet de pondérer les critères. Le décideur choisit la position relative des cartes, représentant les critères, en les classant sous forme pyramidale. Il peut positionner des cartes blanches pour indiquer une importance supplémentaire entre deux rangs. Visuelle et concrète, cette technique est souvent utilisée comme moyen de communication et de pondération des critères. Un traitement mathématique des rangs permet la détermination du poids de chaque critère. \n",
    "\n",
    "Cependant, cette méthode a des limites, invisibles pour le décideur. \n",
    "\n",
    "Tout d'abord, la pondération n'est pas forcément normalisée (la somme des poids doit valoir 1). \n",
    "\n",
    "Ensuite, la position visuelle des critères est modifiée par le traitement mathématique. Deux cartes sur le dernier rang (numéro 1) ont une position évaluée à 1.5. Cette déformation mathématique réduit fortement la liste des poids pouvant être obtenus. \n",
    "\n",
    "Enfin, l'importance relative entre le premier et le dernier critère est imposée, ce qui induit des fortes disparités dans la pondération lorsque le nombre de critères est élevé. \n",
    "\n",
    "La méthode SRF améliore le traitement mathématique des critères, avec l'ajout d'un ratio Z représentant l'importance relative mentionnée précédemment. "
   ]
  },
  {
   "cell_type": "markdown",
   "id": "fdd78ef4",
   "metadata": {},
   "source": [
    "## Présentation du code\n",
    " \n",
    "Les différentes étapes du code de la méthode SRF sont présentées ici. "
   ]
  },
  {
   "cell_type": "markdown",
   "id": "b5b859b3",
   "metadata": {},
   "source": [
    "Les modules panda et openpyxl seront utilisés pour extraire les données de la feuille de calcul."
   ]
  },
  {
   "cell_type": "code",
   "execution_count": 1,
   "id": "dcbe0d68",
   "metadata": {},
   "outputs": [],
   "source": [
    "import pandas as pd"
   ]
  },
  {
   "cell_type": "markdown",
   "id": "9526a11d",
   "metadata": {},
   "source": [
    "## 1. Première étape : Définition des fonctions\n",
    "\n",
    "#### 1.1 Récupération du fichier \n",
    "La première étape est de récupérer les données d'un tableau Excel donné. \n",
    "Ce dernier se décompose en cinq feuilles : \n",
    "\n",
    "    1. Critères : présentation des critères, de leurs indices, leurs descriptions, leurs intérêts et les moyens d'évaluation\n",
    "    2. Pondération Critères Systèmes : l'utilisateur classe les critères du système et donne un ratio Z \n",
    "    3. Pondération Critères Enveloppe : l'utilisateur classe les critères de l'enveloppe et donne un ratio Z\n",
    "    4. Calculs : les étapes de calcul, ici automatisés par un code python, sont réalisées. \n",
    "    5. Résultats : les résultats sont présentés. \n",
    "        \n",
    "Le ratio Z correspond à l'importance relative entre le premier et le dernier critère. \n",
    "\n",
    "Dans la fonction suivante, 'recuperate_file', le nom 'name' du fichier Excel est indiqué, ainsi que le numéro de la feuille à extraire. Les données sont ensuite renvoyées sous forme de liste pour faciliter le traitement des données. "
   ]
  },
  {
   "cell_type": "code",
   "execution_count": 2,
   "id": "6ab80dea",
   "metadata": {},
   "outputs": [],
   "source": [
    "def recuperate_file(name, index_sheet):\n",
    "    \"\"\"Récupère une feuille du fichier Excel pour la transformer en objet liste \"\"\"\n",
    "    feuille_recup = pd.read_excel(name, sheet_name=index_sheet)\n",
    "    return feuille_recup.values.tolist()"
   ]
  },
  {
   "cell_type": "markdown",
   "id": "492822f7",
   "metadata": {},
   "source": [
    "#### 1.2 Définition des dictionnaires \n",
    "La correspondance entre le nom des critères et leur indice est réalisé par les fonctions dico_. Une fonction est écrite pour chaque thème. \n",
    "\n",
    "Attention ! Les indices utilisés ne sont valables uniquement pour le fichier Excel \"Pondération Critères.xlsm\"\n",
    "Cette limite à la méthode de Simos pourrait être améliorée par l'encodage du système de choix, réalisé pour l'instant sur Excel. "
   ]
  },
  {
   "cell_type": "code",
   "execution_count": 3,
   "id": "39001c92",
   "metadata": {},
   "outputs": [],
   "source": [
    "def fdico_economie(feuille):\n",
    "    \"\"\" Définition du dictionnaire Economie contenant la correspondance entre l'index et son critère \"\"\"\n",
    "    dico_economie = {}\n",
    "    for x in range(7,15):\n",
    "        dico_economie[(feuille[x][2])] = (feuille[x][1])\n",
    "    return dico_economie\n",
    "\n",
    "def fdico_technique(feuille):\n",
    "    \"\"\" Définition du dictionnaire Technique contenant la correspondance entre l'index et son critère \"\"\"\n",
    "    dico_technique = {}\n",
    "    for x in range(18, 22):\n",
    "        dico_technique[(feuille[x][2])] = (feuille[x][1])\n",
    "    return dico_technique\n",
    "\n",
    "def fdico_social(feuille):\n",
    "    \"\"\" Définition du dictionnaire Social contenant la correspondance entre l'index et son critère \"\"\"\n",
    "    dico_social = {}\n",
    "    for x in range(25,30):\n",
    "        dico_social[(feuille[x][2])] = (feuille[x][1])\n",
    "    return dico_social\n",
    "\n",
    "def fdico_environnement(feuille):\n",
    "    \"\"\" Définition du dictionnaire Environnement contenant la correspondance entre l'index et son critère \"\"\"\n",
    "    dico_environnement = {}\n",
    "    for x in range(33,40):\n",
    "        dico_environnement[(feuille[x][2])] = (feuille[x][1])\n",
    "    return dico_environnement"
   ]
  },
  {
   "cell_type": "markdown",
   "id": "2b15961c",
   "metadata": {},
   "source": [
    "#### 1.3 Récupération des choix de l'utilisateur \n",
    "Les choix de l'utilisateur sont récupérés sous forme de liste. Pour cela, la fonction tableau_choix reçoit la 'feuille' où se situent les données à récupérer, et les indices des lignes du tableau de choix. \n",
    " "
   ]
  },
  {
   "cell_type": "code",
   "execution_count": 4,
   "id": "2f1cd43c",
   "metadata": {},
   "outputs": [],
   "source": [
    "def tableau_choix(feuille,dico,index):\n",
    "    \"\"\"Récupération des choix de l'utilisateur sous forme d'une liste. Retourne également le ratio Z\"\"\"\n",
    "    tableau_choix_environnement = [[0 for j in range(4)] for i in range(15)]\n",
    "    a = index[0]\n",
    "    b = index[1]\n",
    "    for x in range(a,b):\n",
    "        tableau_choix_environnement[x - a][0]= x - a+1\n",
    "        for y in range(2,5):\n",
    "            tableau_choix_environnement[x - a][y - 1]=str(feuille[x][y])\n",
    "            if (dico.get(tableau_choix_environnement[x - a][y - 1], 1) != 1) :\n",
    "                tableau_choix_environnement[x - a][y - 1] = dico.get(tableau_choix_environnement[x - a][y - 1])\n",
    "    return tableau_choix_environnement, feuille[index[1]+1][2]"
   ]
  },
  {
   "cell_type": "markdown",
   "id": "aa79fe78",
   "metadata": {},
   "source": [
    "#### 1.4 Définition des fonctions de calcul \n",
    "Les lignes ci-dessous présentent les fonctions de calcul utilisées pour déterminer les paramètres de la méthode SRF. \n",
    "\n",
    "Premièrement, nous recevons une matrice contenant les critères rangés par l'utilisateur. Une premire fonction permet de supprimer les lignes ne servant pas au classement des critères. "
   ]
  },
  {
   "cell_type": "code",
   "execution_count": 5,
   "id": "a32ea275",
   "metadata": {},
   "outputs": [],
   "source": [
    "def traitement(l):\n",
    "   \"\"\"Permet de retirer les cartes blanches inutiles\"\"\"\n",
    "   while l[-1][1] == 'nan':\n",
    "       del l[-1]\n",
    "   return l"
   ]
  },
  {
   "cell_type": "markdown",
   "id": "2dee7cd3",
   "metadata": {},
   "source": [
    "Une seconde méthode permet d'affecter la numérotation des rangs, à l'inverse du classement. Le dernier classement se voit donc affecter le numéro 1.  "
   ]
  },
  {
   "cell_type": "code",
   "execution_count": 6,
   "id": "dec8cd52",
   "metadata": {},
   "outputs": [],
   "source": [
    "def calcul_rang(l):\n",
    "    listnouveaurang = [None]*len(l)\n",
    "    for i in range(len(l)):\n",
    "        listnouveaurang[i] = l[len(l)-i-1]\n",
    "        listnouveaurang[i][0]=i+1\n",
    "    return listnouveaurang"
   ]
  },
  {
   "cell_type": "markdown",
   "id": "4f6dfb56",
   "metadata": {},
   "source": [
    "La méthode calcul_n permet de calculer le nombre de rang dans le classement donné 'l'. \n",
    "A chaque ligne non vide, le paramètre n est incrémenté. "
   ]
  },
  {
   "cell_type": "code",
   "execution_count": 7,
   "id": "d6afc7a9",
   "metadata": {},
   "outputs": [],
   "source": [
    "def calcul_n(l):\n",
    "    n = 0\n",
    "    for i in range(len(l)):\n",
    "        for j in range(1, len(l[i])):\n",
    "            if l[i][j] != 'nan':\n",
    "                n +=1\n",
    "    return n"
   ]
  },
  {
   "cell_type": "markdown",
   "id": "f949818d",
   "metadata": {},
   "source": [
    "Cette fonction 'calcul_er_prime' permet de déterminer le nombre de cartes blanches entre deux rangs successifs. \n",
    "Si la ligne est vide (remplie de 'nan'), la matrice 'l' ajoute un 1. Sinon, on ajoute 0 carte blanche. \n",
    "Le n correspond au nombre de cartes blanches au rang précédent. "
   ]
  },
  {
   "cell_type": "code",
   "execution_count": 8,
   "id": "1a3abe71",
   "metadata": {},
   "outputs": [],
   "source": [
    "def calcul_er_prime(l,n):\n",
    "    for i in range(len(l)-1):\n",
    "        if l[i+1][1] == 'nan':\n",
    "            l[i].append(1)\n",
    "        else:\n",
    "            l[i].append(0)\n",
    "    if n == 0:\n",
    "        l[len(l)-1].append(1)\n",
    "    else:\n",
    "        l[len(l)-1].append(0)\n",
    "\n",
    "    for i in range(1,len(l)):\n",
    "        if l[len(l)-i-1][-1] != 0:\n",
    "            l[len(l) - i - 1][-1] = l[len(l)-i-1][-1] + l[len(l)-i][-1]\n",
    "    for i in range(len(l)):\n",
    "        if l[i][1] == 'nan' and l[i][2] == 'nan' and l[i][3] == 'nan':\n",
    "            l[i][-1] = 0\n",
    "    return l"
   ]
  },
  {
   "cell_type": "markdown",
   "id": "f5f7e512",
   "metadata": {},
   "source": [
    "La méthode calcul_er permet de calculer le paramètre 'er' à partir de la liste des er' calculée précédemment. "
   ]
  },
  {
   "cell_type": "code",
   "execution_count": 9,
   "id": "afbee653",
   "metadata": {},
   "outputs": [],
   "source": [
    "def calcul_er(l):\n",
    "    e = 0\n",
    "    for i in range(len(l)):\n",
    "        l[i].append(l[i][-1]+1)\n",
    "        e += l[i][-1]\n",
    "    return l,e"
   ]
  },
  {
   "cell_type": "markdown",
   "id": "6aabb666",
   "metadata": {},
   "source": [
    "La méthode calcul_u permet de calculer le paramètre 'u' à partir de la liste des er calculée précédemment. "
   ]
  },
  {
   "cell_type": "code",
   "execution_count": 10,
   "id": "ca4c4ae7",
   "metadata": {},
   "outputs": [],
   "source": [
    "def calcul_u(z,e):\n",
    "    u = (z-1)/e\n",
    "    return u"
   ]
  },
  {
   "cell_type": "markdown",
   "id": "8842d7ba",
   "metadata": {},
   "source": [
    "La méthode calcul_k_i_prime permet de calculer le paramètre ki'. "
   ]
  },
  {
   "cell_type": "code",
   "execution_count": 11,
   "id": "10532612",
   "metadata": {},
   "outputs": [],
   "source": [
    "def calcul_k_i_prime(u,l):\n",
    "    somme_er = 0\n",
    "    for i in range(len(l)):\n",
    "        if l[i][1] != 'nan':\n",
    "            l[i].append(1+u*somme_er)\n",
    "            somme_er += l[i][-2]\n",
    "        else:\n",
    "            l[i].append('nan')\n",
    "            somme_er += l[i][-2]\n",
    "    return l"
   ]
  },
  {
   "cell_type": "markdown",
   "id": "7d7ca26a",
   "metadata": {},
   "source": [
    "Enfin, la méthode traitement2 permet de créer un tableau associant le critère et le ki' correspondant. "
   ]
  },
  {
   "cell_type": "code",
   "execution_count": 12,
   "id": "e4a34120",
   "metadata": {},
   "outputs": [],
   "source": [
    "def traitement2(l):\n",
    "    \"\"\"Permet d'obtenir un tableau avec le critère et son ki' associé\"\"\"\n",
    "    liste_traitee = []\n",
    "    for i in range(len(l)):\n",
    "        for j in range(1 , 4):\n",
    "            if l[i][j] != 'nan':\n",
    "                liste_traitee.append([l[i][j],l[i][-1]])\n",
    "    return liste_traitee"
   ]
  },
  {
   "cell_type": "markdown",
   "id": "e2d915d3",
   "metadata": {},
   "source": [
    "Une fois le tableau [critère, ki'] obtenu, la somme des ki' est calculée. "
   ]
  },
  {
   "cell_type": "code",
   "execution_count": 13,
   "id": "32e7cb32",
   "metadata": {},
   "outputs": [],
   "source": [
    "def calcul_K_prime(l):\n",
    "  K_prime = 0\n",
    "  for i in range(len(l)):\n",
    "      K_prime += l[i][1]\n",
    "  return K_prime"
   ]
  },
  {
   "cell_type": "markdown",
   "id": "178d769c",
   "metadata": {},
   "source": [
    "Le ki*, correspondant à la pondération finale non arrondie, est calculé. "
   ]
  },
  {
   "cell_type": "code",
   "execution_count": 14,
   "id": "4b5215ed",
   "metadata": {},
   "outputs": [],
   "source": [
    "def calcul_ki_etoile(l,K_prime):\n",
    "  for i in range(len(l)):\n",
    "      l[i].append((100/K_prime)*l[i][1])\n",
    "  return l"
   ]
  },
  {
   "cell_type": "markdown",
   "id": "c74a6d8f",
   "metadata": {},
   "source": [
    "Un traitement mathématique est effectué pour normaliser les ki* obtenus. Pour cela, un ki\" est calculé en tronquant le ki*. "
   ]
  },
  {
   "cell_type": "code",
   "execution_count": 15,
   "id": "8bf3d2f9",
   "metadata": {},
   "outputs": [],
   "source": [
    "def calcul_ki_2prime(l):\n",
    "  for i in range(len(l)):\n",
    "      l[i].append(int(l[i][2]*100)/100)\n",
    "  return l"
   ]
  },
  {
   "cell_type": "markdown",
   "id": "2e929789",
   "metadata": {},
   "source": [
    "La somme des ki\" est calculée. "
   ]
  },
  {
   "cell_type": "code",
   "execution_count": 16,
   "id": "65a1a8b1",
   "metadata": {},
   "outputs": [],
   "source": [
    "def calcul_K_2prime(l):\n",
    "  K_2prime = 0\n",
    "  for i in range(len(l)):\n",
    "      K_2prime += l[i][3]\n",
    "  return K_2prime"
   ]
  },
  {
   "cell_type": "markdown",
   "id": "69945c4f",
   "metadata": {},
   "source": [
    "La pondération finale est ensuite calculée. Pour cela, des opérateurs [di, M, L, F] sont utilisés. Un paramètre w est défini pour choisir le nombre de décimales. Enfin, les matrices F+ et F- indiquent si le poids doit être arrondi au supérieur ou à l'inférieur. "
   ]
  },
  {
   "cell_type": "code",
   "execution_count": 17,
   "id": "05f63983",
   "metadata": {},
   "outputs": [],
   "source": [
    "def calcul_ki(l,K_2prime,n):\n",
    "  w = 2\n",
    "  for i in range(len(l)):\n",
    "      l[i].append((10 ** (-w) - (l[i][2] - l[i][3])) / l[i][2])  # Calcul di\n",
    "      l[i].append((l[i][2] - l[i][3]) / l[i][2])  # Calcul di_barre\n",
    "      if l[i][4] > l[i][5]: #Calcul M\n",
    "          l[i].append(1)\n",
    "      else:\n",
    "          l[i].append(0)\n",
    "      if l[i][6] == 1: #Calcul di_M\n",
    "          l[i].append(l[i][4])\n",
    "      else:\n",
    "          l[i].append('-')\n",
    "\n",
    "  v = int(10 ** (w) * (100 - K_2prime))  # Calcul v\n",
    "  m = 0  # Calcul m\n",
    "  for i in range(len(l)):\n",
    "      m += l[i][6]\n",
    "\n",
    "  L = [] # Calcul L\n",
    "  for i in range(len(l)):\n",
    "      if l[i][7] != '-':\n",
    "          L.append(l[i][7])\n",
    "  L.sort()\n",
    "  if L == []:\n",
    "      L = [0] * n\n",
    "\n",
    "  vmn = v + m - n\n",
    "  if m+v > n:\n",
    "      for i in range(vmn,len(L)):\n",
    "          L[i] = 0\n",
    "  else:\n",
    "      L = [0]*n\n",
    "\n",
    "  #Calcul flèche L\n",
    "  for i in range(len(L)):\n",
    "      compteur_di = 0\n",
    "      if L[i] == l[0][4]:\n",
    "          compteur_di +=1\n",
    "  if compteur_di != 0:\n",
    "          l[0].append(1)\n",
    "  else:\n",
    "          l[0].append(0)\n",
    "  vmn =  v + m -n\n",
    "  for i in range(1,len(l)):\n",
    "      compteur_di = 0\n",
    "      for j in range(len(L)):\n",
    "          if L[j] == l[i][4]:\n",
    "              compteur_di +=1\n",
    "      if compteur_di != 0:\n",
    "          s=0\n",
    "          j = 0\n",
    "          while j != i and i < len(L):\n",
    "              s+=L[j]\n",
    "              j +=1\n",
    "          if s>vmn :\n",
    "              l[i].append(0)\n",
    "          else:\n",
    "              l[i].append(1)\n",
    "\n",
    "      else:\n",
    "          l[i].append(0)\n",
    "\n",
    "\n",
    "  for i in range(len(l)): #Calcul dibarre_différent_M\n",
    "      if l[i][6] == 0:\n",
    "          l[i].append(l[i][5])\n",
    "      else:\n",
    "          l[i].append('-')\n",
    "\n",
    "  Lbarre = []  # Calcul Lbarre\n",
    "  nvm = n - v -m\n",
    "  for i in range(len(l)):\n",
    "      if l[i][9] != '-':\n",
    "          Lbarre.append(l[i][9])\n",
    "  Lbarre.sort()\n",
    "  if Lbarre == []:\n",
    "      Lbarre = [0] * n\n",
    "\n",
    "  if m + v < n:\n",
    "      for i in range(nvm, len(Lbarre)):\n",
    "          Lbarre[i] = 0\n",
    "  else:\n",
    "      Lbarre = [0] * n\n",
    "\n",
    "\n",
    "  #Calcul flèche Lbarre\n",
    "\n",
    "  for i in range(len(Lbarre)):\n",
    "      compteur_dibarre = 0\n",
    "      if Lbarre[i] == l[0][5]:\n",
    "          compteur_di += 1\n",
    "  if compteur_di != 0:\n",
    "      l[0].append(1)\n",
    "  else:\n",
    "      l[0].append(0)\n",
    "\n",
    "  for i in range(1, len(l)):\n",
    "      compteur_dibarre = 0\n",
    "      for j in range(len(Lbarre)):\n",
    "          if Lbarre[j] == l[i][5]:\n",
    "              compteur_dibarre += 1\n",
    "\n",
    "      if compteur_dibarre != 0:\n",
    "          s = 0\n",
    "          j = 0\n",
    "          while j != i and i < len(Lbarre):\n",
    "              s += Lbarre[j]\n",
    "              j +=1\n",
    "          if s > nvm:\n",
    "              l[i].append(0)\n",
    "          else:\n",
    "              l[i].append(1)\n",
    "      else:\n",
    "          l[i].append(0)\n",
    "  #Calcul F+ / F-\n",
    "  for i in range(len(l)):  # F+\n",
    "      if m + v < n:\n",
    "          conditionF = n - v - m\n",
    "          if l[i][6] == 0:\n",
    "              l[i].append(1)\n",
    "          else:\n",
    "              l[i].append(0)\n",
    "      else:\n",
    "          conditionF = n - v\n",
    "  fbis = [0] * len(l)\n",
    "  verif = 0\n",
    "  j = n-1\n",
    "  while verif < conditionF and j!=-1:\n",
    "      if l[j][10]==1 and l[j][6]==0:\n",
    "          fbis[j] = 0\n",
    "          if verif <= nvm:\n",
    "              l[j][11] = fbis[j]\n",
    "              verif = verif +1\n",
    "      j = j-1\n",
    "\n",
    "  # Calcul F- puis ki\n",
    "  for i in range(len(l)):\n",
    "      if l[i][11] == 0: #F-\n",
    "          l[i].append(1)\n",
    "      else:\n",
    "          l[i].append(0)\n",
    "      if l[i][12] == 1: #ki\n",
    "          l[i].append(int(l[i][2]*(10**w))/10**w)\n",
    "      else:\n",
    "          l[i].append(int(l[i][2]*(10**w)+1)/(10**w))\n",
    "  veri = 0\n",
    "  for i in range(len(l)):\n",
    "      veri += l[i][13]\n",
    "  return l,veri"
   ]
  },
  {
   "cell_type": "markdown",
   "id": "31f27bbb",
   "metadata": {},
   "source": [
    "## 2. Deuxième étape : Méthode de Simos-Roy-Figueira\n",
    "\n",
    "#### 2.1 Récupération des données\n",
    "La première étape est de récupérer les choix de l'utilisateur à partir du tableau excel 'Pondération Critères. xlsm'. Pour cela, les fonctions de récupération de données (présentées parties 1.1 et 1.2) sont utilisées. \n",
    "\n",
    "Les feuilles 1, 2 et 3 sont récupérées. Un message d'avertissement apparaît pour indiquer que le module Openpyxl ne supporte pas les données 'Data Validation' dans Excel. Nos données ne sont pas concernées. "
   ]
  },
  {
   "cell_type": "code",
   "execution_count": 18,
   "id": "a48c21cd",
   "metadata": {},
   "outputs": [
    {
     "name": "stderr",
     "output_type": "stream",
     "text": [
      "C:\\Users\\flori\\anaconda3\\lib\\site-packages\\openpyxl\\worksheet\\_reader.py:312: UserWarning: Data Validation extension is not supported and will be removed\n",
      "  warn(msg)\n"
     ]
    }
   ],
   "source": [
    "feuille1 = recuperate_file('Pondération critères.xlsm', 0)\n",
    "feuille2 = recuperate_file('Pondération critères.xlsm', 1)\n",
    "feuille3 = recuperate_file('Pondération critères.xlsm', 2)"
   ]
  },
  {
   "cell_type": "markdown",
   "id": "e2a7b54e",
   "metadata": {},
   "source": [
    "Les dictionnaires associant critères et indices sont créés. "
   ]
  },
  {
   "cell_type": "code",
   "execution_count": 19,
   "id": "8aa4d3ad",
   "metadata": {},
   "outputs": [],
   "source": [
    "dico_economie = fdico_economie(feuille1)\n",
    "dico_environnement = fdico_environnement(feuille1)\n",
    "dico_social = fdico_social(feuille1)\n",
    "dico_technique = fdico_technique(feuille1)"
   ]
  },
  {
   "cell_type": "markdown",
   "id": "b2358f92",
   "metadata": {},
   "source": [
    "Les index permettant d'identifier la plage de données dans la feuille de calcul sont définis"
   ]
  },
  {
   "cell_type": "code",
   "execution_count": 20,
   "id": "96dd2188",
   "metadata": {},
   "outputs": [],
   "source": [
    "index_environnement = [92,107]\n",
    "index_economie = [21,36]\n",
    "index_social = [69,84]\n",
    "index_technique = [45,60]"
   ]
  },
  {
   "cell_type": "markdown",
   "id": "8f71917d",
   "metadata": {},
   "source": [
    "Les tableaux contenant le classement des critères sont créés. "
   ]
  },
  {
   "cell_type": "code",
   "execution_count": 21,
   "id": "4079ecc9",
   "metadata": {},
   "outputs": [],
   "source": [
    "tableau_choix_environnement, z_environnement = tableau_choix(feuille2,dico_environnement,index_environnement)\n",
    "tableau_choix_economie, z_economie = tableau_choix(feuille2,dico_economie,index_economie)\n",
    "tableau_choix_technique, z_technique = tableau_choix(feuille2,dico_technique,index_technique)\n",
    "tableau_choix_social, z_social = tableau_choix(feuille2,dico_social,index_social)"
   ]
  },
  {
   "cell_type": "markdown",
   "id": "4d2a3050",
   "metadata": {},
   "source": [
    "#### 2.2 Traitement des données\n",
    "La deuxième étape permet de traiter les données pour déterminer la pondération des critères avec les fonctions définies partie 1.3"
   ]
  },
  {
   "cell_type": "code",
   "execution_count": 22,
   "id": "22fb6d62",
   "metadata": {},
   "outputs": [],
   "source": [
    "tableau = traitement(tableau_choix_economie)\n",
    "\n",
    "tableau = calcul_rang(tableau)\n",
    "\n",
    "n = calcul_n(tableau)\n",
    "\n",
    "tableau = calcul_er_prime(tableau,n)\n",
    "\n",
    "tableau,e = calcul_er(tableau)\n",
    "\n",
    "u = calcul_u(z_economie,e)\n",
    "\n",
    "\n",
    "tableau = calcul_k_i_prime(u,tableau)\n",
    "\n",
    "tableau = traitement2(tableau)\n",
    "\n",
    "\n",
    "K_prime = calcul_K_prime(tableau)\n",
    "\n",
    "tableau = calcul_ki_etoile(tableau,K_prime)\n",
    "\n",
    "tableau = calcul_ki_2prime(tableau)\n",
    "\n",
    "K_2prime = calcul_K_2prime(tableau)\n",
    "\n",
    "tableau,total = calcul_ki(tableau,K_2prime,n)"
   ]
  },
  {
   "cell_type": "markdown",
   "id": "8df7faa8",
   "metadata": {},
   "source": [
    "Finalement, le critère associé à sa pondération est affiché. "
   ]
  },
  {
   "cell_type": "code",
   "execution_count": 23,
   "id": "cee04985",
   "metadata": {},
   "outputs": [
    {
     "name": "stdout",
     "output_type": "stream",
     "text": [
      "g1.4 2.37\n",
      "g1.3 9.21\n",
      "g1.2 10.18\n",
      "g1.5 11.16\n",
      "g1.8 14.09\n",
      "g1.7 17.01\n",
      "g1.1 17.99\n",
      "g1.6 17.99\n",
      "Somme des poids = 100.0\n"
     ]
    }
   ],
   "source": [
    "for i in range(0,len(tableau)):\n",
    "    print(str(tableau[i][0])+\" \"+str(tableau[i][13]))\n",
    "print(\"Somme des poids = \"+str(total))"
   ]
  }
 ],
 "metadata": {
  "kernelspec": {
   "display_name": "Python 3",
   "language": "python",
   "name": "python3"
  },
  "language_info": {
   "codemirror_mode": {
    "name": "ipython",
    "version": 3
   },
   "file_extension": ".py",
   "mimetype": "text/x-python",
   "name": "python",
   "nbconvert_exporter": "python",
   "pygments_lexer": "ipython3",
   "version": "3.8.8"
  }
 },
 "nbformat": 4,
 "nbformat_minor": 5
}
