{
 "cells": [
  {
   "cell_type": "markdown",
   "id": "f10a3737",
   "metadata": {},
   "source": [
    "# Tutorial \"Calculate_SRF.py\"\n",
    "\n",
    "Authors: [Asmae KHARRAB](mailto:asmae.kharrab@insa-lyon.fr), [Florian MERINDOL](mailto:florian.merindol@insa-lyon.fr)\n",
    "\n",
    "[INSA Lyon](https://www.insa-lyon.fr), France, 08/10/2021\n",
    "\n",
    "## Introduction\n",
    "\n",
    "In order to weight criterias by SRF method (Simos-Roy-Figueira), this Python code [**Calculate_SRF.py**](Calculate_SRF.py), displayed below, allows to automate calculations from Excel file where user had classified previously criterias. "
   ]
  },
  {
   "cell_type": "markdown",
   "id": "cd678930",
   "metadata": {},
   "source": [
    "## SRF method presentation\n",
    "\n",
    "The Simos-Roy-Figueira (SRF) method is an Simos method improvement, so-called \"method of cards\"\n",
    "\n",
    "The cards method allow to weight criterias. The decision maker chooses the relative position of cards, representing criterias, by classifying them under pyramidal way. He can add white cards to indicate an additional importance between two successive ranks. Visuel and concrete, that technique is often used as communication way. A mathematical processing allows to wieght each criteria.  \n",
    "However, that method had limits, unseen for the user. \n",
    "\n",
    "Firstly, the weighting isn't normalized systematically (the sum of weight must be equal to one). \n",
    "\n",
    "Then, the criteria visual position is modified by mathematical processing. Two cards on the last rank (number 1) have an position evaluated at 1,5. This mathematical deformation reduces the weight list which can be calculated. \n",
    "\n",
    "Finally, the relative importance between the fist and the last criteria is imposed. That induces strong disparities in the weighting when the number of criterias is high. \n",
    "\n",
    "The SRF method improves the mathematical processing of criterias, with adddition of Z ratio, representing the relative importance noted previously. "
   ]
  },
  {
   "cell_type": "markdown",
   "id": "8c8d387a",
   "metadata": {},
   "source": [
    "## Python code presentation\n",
    "\n",
    "The different steps of the SRF method code are presented here.  "
   ]
  },
  {
   "cell_type": "markdown",
   "id": "b5b859b3",
   "metadata": {},
   "source": [
    "The modules panda and openpyxl are used to extract datas from an excel file. "
   ]
  },
  {
   "cell_type": "code",
   "execution_count": 1,
   "id": "dcbe0d68",
   "metadata": {},
   "outputs": [],
   "source": [
    "import pandas as pd"
   ]
  },
  {
   "cell_type": "markdown",
   "id": "9526a11d",
   "metadata": {},
   "source": [
    "## 1. First step : Definition of functions\n",
    "\n",
    "#### 1.1 File recovering\n",
    "The first step is to recover datas from a given Excel file, that is composed in five sheets : \n",
    "    \n",
    "    1. 'Critères' : presentation of criterias with their indexs, descriptions, interests and evaluation ways. \n",
    "    2. 'Pondération Critères Systèmes' : the users classifies the system criterias and gives a Z ratio\n",
    "    3. 'Pondération Critères Enveloppe' :  the users classifies the covering criterias and gives a Z ratio\n",
    "    4. 'Calculs' : the calculation steps, here automated by the Python code, are realized. \n",
    "    5. 'Résultats' : the results are displayed. \n",
    "    \n",
    "The Z ratio is the relative importance between the first and the last criteria. \n",
    "\n",
    "In the following function, 'recuperate_file', the 'name' of Excel file is indicated, with the sheet number to extract. The datas are returned in list to facilitate the data processing. "
   ]
  },
  {
   "cell_type": "code",
   "execution_count": 2,
   "id": "6ab80dea",
   "metadata": {},
   "outputs": [],
   "source": [
    "def recuperate_file(name, index_sheet):\n",
    "    \"\"\"To recuperate a sheet from Excel file to make into list\"\"\"\n",
    "    feuille_recup = pd.read_excel(name, sheet_name=index_sheet)\n",
    "    return feuille_recup.values.tolist()"
   ]
  },
  {
   "cell_type": "markdown",
   "id": "492822f7",
   "metadata": {},
   "source": [
    "#### 1.2 Dictionary definition\n",
    "The correspondence between the criteria name and its index is made by the functions dico_. A function is writen for each field. \n",
    "\n",
    "Warning ! The used index are valid only for the 'Pondération Critères.xlsm' file. That limits this SRF method, and could be improved by coding the choice process, realised for the moment in Excel. "
   ]
  },
  {
   "cell_type": "code",
   "execution_count": 3,
   "id": "39001c92",
   "metadata": {},
   "outputs": [],
   "source": [
    "def fdico_economie(feuille):\n",
    "    \"\"\" Economy dictionary definition, containing correspondence between index and criteria \"\"\"\n",
    "    dico_economie = {}\n",
    "    for x in range(7,15):\n",
    "        dico_economie[(feuille[x][2])] = (feuille[x][1])\n",
    "    return dico_economie\n",
    "\n",
    "def fdico_technique(feuille):\n",
    "    \"\"\" Technique dictionary definition, containing correspondence between index and criteria \"\"\"\n",
    "    dico_technique = {}\n",
    "    for x in range(18, 22):\n",
    "        dico_technique[(feuille[x][2])] = (feuille[x][1])\n",
    "    return dico_technique\n",
    "\n",
    "def fdico_social(feuille):\n",
    "    \"\"\" Social dictionary definition, containing correspondence between index and criteria \"\"\"\n",
    "    dico_social = {}\n",
    "    for x in range(25,30):\n",
    "        dico_social[(feuille[x][2])] = (feuille[x][1])\n",
    "    return dico_social\n",
    "\n",
    "def fdico_environnement(feuille):\n",
    "    \"\"\" Environment dictionary definition, containing correspondence between index and criteria \"\"\"\n",
    "    dico_environnement = {}\n",
    "    for x in range(33,40):\n",
    "        dico_environnement[(feuille[x][2])] = (feuille[x][1])\n",
    "    return dico_environnement"
   ]
  },
  {
   "cell_type": "markdown",
   "id": "2b15961c",
   "metadata": {},
   "source": [
    "#### 1.3 Recovering of user's choices\n",
    "The user's choices are recuperated in form of list. For that, the function tableau_choix receives the sheet 'feuille' where are the datas to recover, and the index of table lines. "
   ]
  },
  {
   "cell_type": "code",
   "execution_count": 4,
   "id": "2f1cd43c",
   "metadata": {},
   "outputs": [],
   "source": [
    "def tableau_choix(feuille,dico,index):\n",
    "    \"\"\"Recovering of user's choice in form of list. Return the Z ratio too\"\"\"\n",
    "    tableau_choix_environnement = [[0 for j in range(4)] for i in range(15)]\n",
    "    a = index[0]\n",
    "    b = index[1]\n",
    "    for x in range(a,b):\n",
    "        tableau_choix_environnement[x - a][0]= x - a+1\n",
    "        for y in range(2,5):\n",
    "            tableau_choix_environnement[x - a][y - 1]=str(feuille[x][y])\n",
    "            if (dico.get(tableau_choix_environnement[x - a][y - 1], 1) != 1) :\n",
    "                tableau_choix_environnement[x - a][y - 1] = dico.get(tableau_choix_environnement[x - a][y - 1])\n",
    "    return tableau_choix_environnement, feuille[index[1]+1][2]"
   ]
  },
  {
   "cell_type": "markdown",
   "id": "aa79fe78",
   "metadata": {},
   "source": [
    "#### 1.4 Definition of calculation functions\n",
    "The lines below present the calculation functions used to determinate the SRF method parameters. \n",
    "\n",
    "Firstly, the function tableau_choix return a matrix containing criterias, classified by users. A first function allows to delate lines useless for ranking of criteria. "
   ]
  },
  {
   "cell_type": "code",
   "execution_count": 5,
   "id": "a32ea275",
   "metadata": {},
   "outputs": [],
   "source": [
    "def traitement(l):\n",
    "   \"\"\"Allow to withdraw useless white cards\"\"\"\n",
    "   while l[-1][1] == 'nan':\n",
    "       del l[-1]\n",
    "   return l"
   ]
  },
  {
   "cell_type": "markdown",
   "id": "2dee7cd3",
   "metadata": {},
   "source": [
    "A second method allows to assign numbering for each rank, conversely of ranking. The last criteria is assigned the number one.  "
   ]
  },
  {
   "cell_type": "code",
   "execution_count": 6,
   "id": "dec8cd52",
   "metadata": {},
   "outputs": [],
   "source": [
    "def calcul_rang(l):\n",
    "   listnouveaurang = [None]*len(l)\n",
    "   for i in range(len(l)):\n",
    "       listnouveaurang[i] = l[len(l)-i-1]\n",
    "       listnouveaurang[i][0]=i+1\n",
    "   return listnouveaurang"
   ]
  },
  {
   "cell_type": "markdown",
   "id": "4f6dfb56",
   "metadata": {},
   "source": [
    "The calcul_n method allows to calculate the ranking number in the given choice matrix. For each line not empty, the n parameter is incremented. "
   ]
  },
  {
   "cell_type": "code",
   "execution_count": 7,
   "id": "d6afc7a9",
   "metadata": {},
   "outputs": [],
   "source": [
    "def calcul_n(l):\n",
    "   n = 0\n",
    "   for i in range(len(l)):\n",
    "       for j in range(1, len(l[i])):\n",
    "           if l[i][j] != 'nan':\n",
    "               n +=1\n",
    "   return n"
   ]
  },
  {
   "cell_type": "markdown",
   "id": "f949818d",
   "metadata": {},
   "source": [
    "This calcul_er_prime function allows to determinate the number of white cards  in two successive ranks. \n",
    "If the line is empty (with 'nan'), the matrix 'l' adds 1, else adds 0 white card. The 'n' number corresponds with white cards number of previous rank"
   ]
  },
  {
   "cell_type": "code",
   "execution_count": 8,
   "id": "1a3abe71",
   "metadata": {},
   "outputs": [],
   "source": [
    "def calcul_er_prime(l,n):\n",
    "    for i in range(len(l)-1):\n",
    "        if l[i+1][1] == 'nan':\n",
    "            l[i].append(1)\n",
    "        else:\n",
    "            l[i].append(0)\n",
    "    if n == 0:\n",
    "        l[len(l)-1].append(1)\n",
    "    else:\n",
    "        l[len(l)-1].append(0)\n",
    "\n",
    "    for i in range(1,len(l)):\n",
    "        if l[len(l)-i-1][-1] != 0:\n",
    "            l[len(l) - i - 1][-1] = l[len(l)-i-1][-1] + l[len(l)-i][-1]\n",
    "    for i in range(len(l)):\n",
    "        if l[i][1] == 'nan' and l[i][2] == 'nan' and l[i][3] == 'nan':\n",
    "            l[i][-1] = 0\n",
    "    return l"
   ]
  },
  {
   "cell_type": "markdown",
   "id": "f5f7e512",
   "metadata": {},
   "source": [
    "The calcul_er method allows to calculate the 'er' parameter from the er' list, calculated previously. "
   ]
  },
  {
   "cell_type": "code",
   "execution_count": 9,
   "id": "afbee653",
   "metadata": {},
   "outputs": [],
   "source": [
    "def calcul_er(l):\n",
    "    e = 0\n",
    "    for i in range(len(l)):\n",
    "        l[i].append(l[i][-1]+1)\n",
    "        e += l[i][-1]\n",
    "    return l,e"
   ]
  },
  {
   "cell_type": "markdown",
   "id": "6aabb666",
   "metadata": {},
   "source": [
    "The calcul_u method allows to calculate the 'u' parameter from the 'er' list, calculated previously. . "
   ]
  },
  {
   "cell_type": "code",
   "execution_count": 10,
   "id": "ca4c4ae7",
   "metadata": {},
   "outputs": [],
   "source": [
    "def calcul_u(z,e):\n",
    "    u = (z-1)/e\n",
    "    return u"
   ]
  },
  {
   "cell_type": "markdown",
   "id": "8842d7ba",
   "metadata": {},
   "source": [
    "The calcul_k-i-prime method allows to calculate the ki' parameter. "
   ]
  },
  {
   "cell_type": "code",
   "execution_count": 11,
   "id": "10532612",
   "metadata": {},
   "outputs": [],
   "source": [
    "def calcul_k_i_prime(u,l):\n",
    "    somme_er = 0\n",
    "    for i in range(len(l)):\n",
    "        if l[i][1] != 'nan':\n",
    "            l[i].append(1+u*somme_er)\n",
    "            somme_er += l[i][-2]\n",
    "        else:\n",
    "            l[i].append('nan')\n",
    "            somme_er += l[i][-2]\n",
    "    return l"
   ]
  },
  {
   "cell_type": "markdown",
   "id": "7d7ca26a",
   "metadata": {},
   "source": [
    "The 'traitement2' method allows to create a table associating criteria and ki' corresponding. "
   ]
  },
  {
   "cell_type": "code",
   "execution_count": 12,
   "id": "e4a34120",
   "metadata": {},
   "outputs": [],
   "source": [
    "def traitement2(l):\n",
    "    \"\"\"Allow to obtain table with criteria and ki' corresponding\"\"\"\n",
    "    liste_traitee = []\n",
    "    for i in range(len(l)):\n",
    "        for j in range(1 , 4):\n",
    "            if l[i][j] != 'nan':\n",
    "                liste_traitee.append([l[i][j],l[i][-1]])\n",
    "    return liste_traitee"
   ]
  },
  {
   "cell_type": "markdown",
   "id": "af500560",
   "metadata": {},
   "source": [
    "Once the table of [criteria, ki'] got, the ki' sum is calculated.  "
   ]
  },
  {
   "cell_type": "code",
   "execution_count": 13,
   "id": "98f0f632",
   "metadata": {},
   "outputs": [],
   "source": [
    "def calcul_K_prime(l):\n",
    "  K_prime = 0\n",
    "  for i in range(len(l)):\n",
    "      K_prime += l[i][1]\n",
    "  return K_prime"
   ]
  },
  {
   "cell_type": "markdown",
   "id": "e192a4ea",
   "metadata": {},
   "source": [
    "The ki*, corresponding to final weighting not rounding, is calculated.  "
   ]
  },
  {
   "cell_type": "code",
   "execution_count": 14,
   "id": "9e0f9495",
   "metadata": {},
   "outputs": [],
   "source": [
    "def calcul_ki_etoile(l,K_prime):\n",
    "  for i in range(len(l)):\n",
    "      l[i].append((100/K_prime)*l[i][1])\n",
    "  return l"
   ]
  },
  {
   "cell_type": "markdown",
   "id": "3407f259",
   "metadata": {},
   "source": [
    "A mathematical processing is made to normalize the ki*. For that, the ki\" is calculated by ki* truncation.  "
   ]
  },
  {
   "cell_type": "code",
   "execution_count": 15,
   "id": "7667ffcd",
   "metadata": {},
   "outputs": [],
   "source": [
    "def calcul_ki_2prime(l):\n",
    "  for i in range(len(l)):\n",
    "      l[i].append(int(l[i][2]*100)/100)\n",
    "  return l"
   ]
  },
  {
   "cell_type": "markdown",
   "id": "b08b5c06",
   "metadata": {},
   "source": [
    "The ki\" is calculated. "
   ]
  },
  {
   "cell_type": "code",
   "execution_count": 16,
   "id": "e9632f7b",
   "metadata": {},
   "outputs": [],
   "source": [
    "def calcul_K_2prime(l):\n",
    "  K_2prime = 0\n",
    "  for i in range(len(l)):\n",
    "      K_2prime += l[i][3]\n",
    "  return K_2prime"
   ]
  },
  {
   "cell_type": "markdown",
   "id": "520efc50",
   "metadata": {},
   "source": [
    "The final weighting is calculated then. For that, the operators [di, M, L, F] are used. The w parameter is defined to choose the decimal number. Finally, the F+ and F- matrices indicate if the weight should be rounded up or rounded down. "
   ]
  },
  {
   "cell_type": "code",
   "execution_count": 17,
   "id": "2e92ccd8",
   "metadata": {},
   "outputs": [],
   "source": [
    "def calcul_ki(l,K_2prime,n):\n",
    "  w = 2\n",
    "  for i in range(len(l)):\n",
    "      l[i].append((10 ** (-w) - (l[i][2] - l[i][3])) / l[i][2])  # Calcul di\n",
    "      l[i].append((l[i][2] - l[i][3]) / l[i][2])  # Calcul di_barre\n",
    "      if l[i][4] > l[i][5]: #Calcul M\n",
    "          l[i].append(1)\n",
    "      else:\n",
    "          l[i].append(0)\n",
    "      if l[i][6] == 1: #Calcul di_M\n",
    "          l[i].append(l[i][4])\n",
    "      else:\n",
    "          l[i].append('-')\n",
    "\n",
    "  v = int(10 ** (w) * (100 - K_2prime))  # Calcul v\n",
    "  m = 0  # Calcul m\n",
    "  for i in range(len(l)):\n",
    "      m += l[i][6]\n",
    "\n",
    "  L = [] # Calcul L\n",
    "  for i in range(len(l)):\n",
    "      if l[i][7] != '-':\n",
    "          L.append(l[i][7])\n",
    "  L.sort()\n",
    "  if L == []:\n",
    "      L = [0] * n\n",
    "\n",
    "  vmn = v + m - n\n",
    "  if m+v > n:\n",
    "      for i in range(vmn,len(L)):\n",
    "          L[i] = 0\n",
    "  else:\n",
    "      L = [0]*n\n",
    "\n",
    "  #Calcul flèche L\n",
    "  for i in range(len(L)):\n",
    "      compteur_di = 0\n",
    "      if L[i] == l[0][4]:\n",
    "          compteur_di +=1\n",
    "  if compteur_di != 0:\n",
    "          l[0].append(1)\n",
    "  else:\n",
    "          l[0].append(0)\n",
    "  vmn =  v + m -n\n",
    "  for i in range(1,len(l)):\n",
    "      compteur_di = 0\n",
    "      for j in range(len(L)):\n",
    "          if L[j] == l[i][4]:\n",
    "              compteur_di +=1\n",
    "      if compteur_di != 0:\n",
    "          s=0\n",
    "          j = 0\n",
    "          while j != i and i < len(L):\n",
    "              s+=L[j]\n",
    "              j +=1\n",
    "          if s>vmn :\n",
    "              l[i].append(0)\n",
    "          else:\n",
    "              l[i].append(1)\n",
    "\n",
    "      else:\n",
    "          l[i].append(0)\n",
    "\n",
    "\n",
    "  for i in range(len(l)): #Calcul dibarre_différent_M\n",
    "      if l[i][6] == 0:\n",
    "          l[i].append(l[i][5])\n",
    "      else:\n",
    "          l[i].append('-')\n",
    "\n",
    "  Lbarre = []  # Calcul Lbarre\n",
    "  nvm = n - v -m\n",
    "  for i in range(len(l)):\n",
    "      if l[i][9] != '-':\n",
    "          Lbarre.append(l[i][9])\n",
    "  Lbarre.sort()\n",
    "  if Lbarre == []:\n",
    "      Lbarre = [0] * n\n",
    "\n",
    "  if m + v < n:\n",
    "      for i in range(nvm, len(Lbarre)):\n",
    "          Lbarre[i] = 0\n",
    "  else:\n",
    "      Lbarre = [0] * n\n",
    "\n",
    "\n",
    "  #Calcul flèche Lbarre\n",
    "\n",
    "  for i in range(len(Lbarre)):\n",
    "      compteur_dibarre = 0\n",
    "      if Lbarre[i] == l[0][5]:\n",
    "          compteur_di += 1\n",
    "  if compteur_di != 0:\n",
    "      l[0].append(1)\n",
    "  else:\n",
    "      l[0].append(0)\n",
    "\n",
    "  for i in range(1, len(l)):\n",
    "      compteur_dibarre = 0\n",
    "      for j in range(len(Lbarre)):\n",
    "          if Lbarre[j] == l[i][5]:\n",
    "              compteur_dibarre += 1\n",
    "\n",
    "      if compteur_dibarre != 0:\n",
    "          s = 0\n",
    "          j = 0\n",
    "          while j != i and i < len(Lbarre):\n",
    "              s += Lbarre[j]\n",
    "              j +=1\n",
    "          if s > nvm:\n",
    "              l[i].append(0)\n",
    "          else:\n",
    "              l[i].append(1)\n",
    "      else:\n",
    "          l[i].append(0)\n",
    "  #Calcul F+ / F-\n",
    "  for i in range(len(l)):  # F+\n",
    "      if m + v < n:\n",
    "          conditionF = n - v - m\n",
    "          if l[i][6] == 0:\n",
    "              l[i].append(1)\n",
    "          else:\n",
    "              l[i].append(0)\n",
    "      else:\n",
    "          conditionF = n - v\n",
    "  fbis = [0] * len(l)\n",
    "  verif = 0\n",
    "  j = n-1\n",
    "  while verif < conditionF and j!=-1:\n",
    "      if l[j][10]==1 and l[j][6]==0:\n",
    "          fbis[j] = 0\n",
    "          if verif <= nvm:\n",
    "              l[j][11] = fbis[j]\n",
    "              verif = verif +1\n",
    "      j = j-1\n",
    "\n",
    "  # Calcul F- puis ki\n",
    "  for i in range(len(l)):\n",
    "      if l[i][11] == 0: #F-\n",
    "          l[i].append(1)\n",
    "      else:\n",
    "          l[i].append(0)\n",
    "      if l[i][12] == 1: #ki\n",
    "          l[i].append(int(l[i][2]*(10**w))/10**w)\n",
    "      else:\n",
    "          l[i].append(int(l[i][2]*(10**w)+1)/(10**w))\n",
    "  veri = 0\n",
    "  for i in range(len(l)):\n",
    "      veri += l[i][13]\n",
    "  return l,veri"
   ]
  },
  {
   "cell_type": "markdown",
   "id": "31f27bbb",
   "metadata": {},
   "source": [
    "## 2. Second step : Simos-Roy-Figueira method\n",
    "\n",
    "#### 2.1 Data recovering\n",
    "The first step is to recover the user's choices from the 'Pondération Critères.xlsm' file. For that, the methods (presented parts 1.1 and 1.2) are used. \n",
    "\n",
    "The sheets '1', '2' and '3' are recuperated. A warning message is displayed to indicate that the Openpyxl module doesn't support the 'Data Validation' datas from Excel. Our datas are not concerned. "
   ]
  },
  {
   "cell_type": "code",
   "execution_count": 18,
   "id": "a48c21cd",
   "metadata": {},
   "outputs": [
    {
     "name": "stderr",
     "output_type": "stream",
     "text": [
      "C:\\Users\\flori\\anaconda3\\lib\\site-packages\\openpyxl\\worksheet\\_reader.py:312: UserWarning: Data Validation extension is not supported and will be removed\n",
      "  warn(msg)\n"
     ]
    }
   ],
   "source": [
    "feuille1 = recuperate_file('Pondération critères.xlsm', 0)\n",
    "feuille2 = recuperate_file('Pondération critères.xlsm', 1)\n",
    "feuille3 = recuperate_file('Pondération critères.xlsm', 2)"
   ]
  },
  {
   "cell_type": "markdown",
   "id": "e2a7b54e",
   "metadata": {},
   "source": [
    "The dictionarys associating criterias and index are created. "
   ]
  },
  {
   "cell_type": "code",
   "execution_count": 19,
   "id": "8aa4d3ad",
   "metadata": {},
   "outputs": [],
   "source": [
    "dico_economie = fdico_economie(feuille1)\n",
    "dico_environnement = fdico_environnement(feuille1)\n",
    "dico_social = fdico_social(feuille1)\n",
    "dico_technique = fdico_technique(feuille1)"
   ]
  },
  {
   "cell_type": "markdown",
   "id": "b2358f92",
   "metadata": {},
   "source": [
    "The indexes allowing the identification of data range in the calculation sheed are given. "
   ]
  },
  {
   "cell_type": "code",
   "execution_count": 20,
   "id": "96dd2188",
   "metadata": {},
   "outputs": [],
   "source": [
    "index_environnement = [92,107]\n",
    "index_economie = [21,36]\n",
    "index_social = [69,84]\n",
    "index_technique = [45,60]"
   ]
  },
  {
   "cell_type": "markdown",
   "id": "8f71917d",
   "metadata": {},
   "source": [
    "The tables containing the criterias ranking are created.  "
   ]
  },
  {
   "cell_type": "code",
   "execution_count": 21,
   "id": "4079ecc9",
   "metadata": {},
   "outputs": [],
   "source": [
    "tableau_choix_environnement, z_environnement = tableau_choix(feuille2,dico_environnement,index_environnement)\n",
    "tableau_choix_economie, z_economie = tableau_choix(feuille2,dico_economie,index_economie)\n",
    "tableau_choix_technique, z_technique = tableau_choix(feuille2,dico_technique,index_technique)\n",
    "tableau_choix_social, z_social = tableau_choix(feuille2,dico_social,index_social)"
   ]
  },
  {
   "cell_type": "markdown",
   "id": "4d2a3050",
   "metadata": {},
   "source": [
    "#### 2.2 Data processing\n",
    "The second step allows to process datas to determinate the criteria weights with the functions defined in part 1.3"
   ]
  },
  {
   "cell_type": "code",
   "execution_count": 22,
   "id": "22fb6d62",
   "metadata": {},
   "outputs": [],
   "source": [
    "tableau = traitement(tableau_choix_economie)\n",
    "\n",
    "tableau = calcul_rang(tableau)\n",
    "\n",
    "n = calcul_n(tableau)\n",
    "\n",
    "tableau = calcul_er_prime(tableau,n)\n",
    "\n",
    "tableau,e = calcul_er(tableau)\n",
    "\n",
    "u = calcul_u(z_economie,e)\n",
    "\n",
    "\n",
    "tableau = calcul_k_i_prime(u,tableau)\n",
    "\n",
    "tableau = traitement2(tableau)\n",
    "\n",
    "\n",
    "K_prime = calcul_K_prime(tableau)\n",
    "\n",
    "tableau = calcul_ki_etoile(tableau,K_prime)\n",
    "\n",
    "tableau = calcul_ki_2prime(tableau)\n",
    "\n",
    "K_2prime = calcul_K_2prime(tableau)\n",
    "\n",
    "tableau,total = calcul_ki(tableau,K_2prime,n)"
   ]
  },
  {
   "cell_type": "markdown",
   "id": "8df7faa8",
   "metadata": {},
   "source": [
    "Finally, the criteria associated with its weight is displayed. "
   ]
  },
  {
   "cell_type": "code",
   "execution_count": 23,
   "id": "cee04985",
   "metadata": {},
   "outputs": [
    {
     "name": "stdout",
     "output_type": "stream",
     "text": [
      "g1.4 2.37\n",
      "g1.3 9.21\n",
      "g1.2 10.18\n",
      "g1.5 11.16\n",
      "g1.8 14.09\n",
      "g1.7 17.01\n",
      "g1.1 17.99\n",
      "g1.6 17.99\n",
      "Somme des poids = 100.0\n"
     ]
    }
   ],
   "source": [
    "for i in range(0,len(tableau)):\n",
    "    print(str(tableau[i][0])+\" \"+str(tableau[i][13]))\n",
    "print(\"Somme des poids = \"+str(total))"
   ]
  }
 ],
 "metadata": {
  "kernelspec": {
   "display_name": "Python 3",
   "language": "python",
   "name": "python3"
  },
  "language_info": {
   "codemirror_mode": {
    "name": "ipython",
    "version": 3
   },
   "file_extension": ".py",
   "mimetype": "text/x-python",
   "name": "python",
   "nbconvert_exporter": "python",
   "pygments_lexer": "ipython3",
   "version": "3.8.8"
  }
 },
 "nbformat": 4,
 "nbformat_minor": 5
}
